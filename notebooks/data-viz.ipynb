{
 "cells": [
  {
   "cell_type": "code",
   "execution_count": 80,
   "id": "7d809fb3-c179-480c-ac4b-be97dc328e6b",
   "metadata": {},
   "outputs": [],
   "source": [
    "import pandas as pd\n",
    "import folium\n",
    "from IPython.display import display, IFrame"
   ]
  },
  {
   "cell_type": "code",
   "execution_count": 4,
   "id": "2fe70dfa-96cc-4d36-9075-f7acfc1d3a6e",
   "metadata": {},
   "outputs": [],
   "source": [
    "US_states_json= \"../data/processed/us-states.json\""
   ]
  },
  {
   "cell_type": "code",
   "execution_count": 37,
   "id": "18ad455a-d3c2-4546-a459-4669bed246e9",
   "metadata": {},
   "outputs": [],
   "source": [
    "# 1. Import necessary libraries\n",
    "import pandas as pd\n",
    "import folium\n",
    "import json\n"
   ]
  },
  {
   "cell_type": "code",
   "execution_count": 45,
   "id": "c38dfff3-f1ce-430b-b084-f8666cccb8b5",
   "metadata": {},
   "outputs": [],
   "source": [
    "# 2. Load the GeoJSON and CSV datasets\n",
    "#    - us-states.json contains state boundaries\n",
    "#    - correct_dtypes_merged_fcc_census_1940.csv has 1939 station counts + 1940 census\n",
    "#    - correct_dtypes_merged_fcc_census_1950.csv has 1950 station counts + 1950 census\n",
    "with open('../data/processed/us-states.json') as f:\n",
    "    states_geo = json.load(f)  # :contentReference[oaicite:0]{index=0}:contentReference[oaicite:1]{index=1}\n",
    "\n",
    "df1940 = pd.read_csv('../data/processed/correct_dtypes_merged_fcc_census_1940.csv')\n",
    "df1950 = pd.read_csv('../data/processed/correct_dtypes_merged_fcc_census_1950.csv')\n"
   ]
  },
  {
   "cell_type": "code",
   "execution_count": 47,
   "id": "df721ae0-3327-41b8-95d7-b4de549021d6",
   "metadata": {},
   "outputs": [
    {
     "name": "stdout",
     "output_type": "stream",
     "text": [
      "Index(['state', 'total', 'Population_1940', 'radio_per_100k'], dtype='object')\n",
      "Index(['State', 'AM', 'FM_Commercial', 'FM_Educational', 'TV', 'Total',\n",
      "       'Population_1950', 'total_radio', 'radio_per_100k'],\n",
      "      dtype='object')\n"
     ]
    }
   ],
   "source": [
    "print(df1940.columns)\n",
    "print(df1950.columns)"
   ]
  },
  {
   "cell_type": "code",
   "execution_count": 50,
   "id": "99d3767b-9cd7-481e-8202-534b154d0caa",
   "metadata": {},
   "outputs": [],
   "source": [
    "# Suppose after inspection your key columns are:\n",
    "#   'state'              – state name matching the GeoJSON \"properties.name\"\n",
    "#   'total_stations'     – number of radio stations in that year\n",
    "#   'population'         – census population for that year\n",
    "#   'stations_per_100k'  – computed stations per 100,000 people\n",
    "#\n",
    "# If your columns differ, rename them like this:\n",
    "df1940 = df1940.rename(columns={\n",
    "    'total': 'total_stations',\n",
    "    'Population_1940': 'population',\n",
    "    'radio_per_100k': 'stations_per_100k'\n",
    "})\n",
    "df1950 = df1950.rename(columns={\n",
    "    'State': 'state',\n",
    "    'total_radio': 'total_stations',\n",
    "    'Population_1950': 'population',\n",
    "    'radio_per_100k': 'stations_per_100k'\n",
    "})\n",
    "\n"
   ]
  },
  {
   "cell_type": "code",
   "execution_count": 52,
   "id": "3b200c6a-5e44-443b-b27c-9197603b66ec",
   "metadata": {},
   "outputs": [
    {
     "name": "stdout",
     "output_type": "stream",
     "text": [
      "Index(['state', 'total_stations', 'population', 'stations_per_100k'], dtype='object')\n",
      "Index(['state', 'AM', 'FM_Commercial', 'FM_Educational', 'TV', 'Total',\n",
      "       'population', 'total_stations', 'stations_per_100k'],\n",
      "      dtype='object')\n"
     ]
    }
   ],
   "source": [
    "print(df1940.columns)\n",
    "print(df1950.columns)"
   ]
  },
  {
   "cell_type": "code",
   "execution_count": 106,
   "id": "3beb6112-2f33-43d9-a2a9-953c468eeb85",
   "metadata": {},
   "outputs": [],
   "source": [
    "# 4. Define a function to create and save a choropleth map\n",
    "def make_choropleth(df, value_column, legend, outfile):\n",
    "    \"\"\"\n",
    "    df            : DataFrame with 'state' + value_column\n",
    "    value_column  : name of column to visualize (e.g. 'total_stations' or 'stations_per_100k')\n",
    "    legend        : legend title (string)\n",
    "    outfile       : filename to save the HTML map to\n",
    "    \"\"\"\n",
    "    # Center USA map\n",
    "    m = folium.Map(location=[37.8, -96], zoom_start=4)\n",
    "    folium.Choropleth(\n",
    "    geo_data=states_geo,\n",
    "    name='choropleth',\n",
    "    data=df,\n",
    "    columns=['state', value_column],\n",
    "    key_on='feature.properties.name',\n",
    "    fill_color='Spectral', ##change depending on map a, b, c, or d\n",
    "    fill_opacity=0.7,\n",
    "    line_opacity=0.2,\n",
    "    legend_name=legend\n",
    "    ).add_to(m)\n",
    "\n",
    "    folium.LayerControl().add_to(m)\n",
    "    m.save(outfile)\n",
    "    print(f\"Saved map to {outfile}\")\n",
    "    \n",
    "    display(IFrame(src=outfile, width='100%', height=500))\n",
    "\n"
   ]
  },
  {
   "cell_type": "code",
   "execution_count": null,
   "id": "90a7b315-bc2c-4f88-8d18-8b993ee73418",
   "metadata": {},
   "outputs": [],
   "source": [
    "# 5. Generate the four maps\n",
    "#    Map A: Total stations in 1939 (using 1940 census file)"
   ]
  },
  {
   "cell_type": "code",
   "execution_count": 108,
   "id": "9a58f7c2-9d67-4dd1-a3fd-ef6fa7a25827",
   "metadata": {},
   "outputs": [
    {
     "name": "stdout",
     "output_type": "stream",
     "text": [
      "Saved map to ../output/stations_1939_total.html\n"
     ]
    },
    {
     "data": {
      "text/html": [
       "\n",
       "        <iframe\n",
       "            width=\"100%\"\n",
       "            height=\"500\"\n",
       "            src=\"../output/stations_1939_total.html\"\n",
       "            frameborder=\"0\"\n",
       "            allowfullscreen\n",
       "            \n",
       "        ></iframe>\n",
       "        "
      ],
      "text/plain": [
       "<IPython.lib.display.IFrame at 0x12a6ff440>"
      ]
     },
     "metadata": {},
     "output_type": "display_data"
    }
   ],
   "source": [
    "make_choropleth(\n",
    "    df1940, \n",
    "    value_column='total_stations', \n",
    "    legend='Total Radio Stations (1939)', \n",
    "    outfile='../output/stations_1939_total.html'\n",
    ")\n",
    "\n",
    "#map color was spectral: because its a diverging spectrum and there's a lot of middling values, and extremes: keep it spectral\n",
    "\n"
   ]
  },
  {
   "cell_type": "code",
   "execution_count": 96,
   "id": "29cd645f-b24b-4b1f-9497-7db4bdfac768",
   "metadata": {},
   "outputs": [
    {
     "name": "stdout",
     "output_type": "stream",
     "text": [
      "Saved map to ../output/stations_1939_per100k.html\n"
     ]
    },
    {
     "data": {
      "text/html": [
       "\n",
       "        <iframe\n",
       "            width=\"100%\"\n",
       "            height=\"500\"\n",
       "            src=\"../output/stations_1939_per100k.html\"\n",
       "            frameborder=\"0\"\n",
       "            allowfullscreen\n",
       "            \n",
       "        ></iframe>\n",
       "        "
      ],
      "text/plain": [
       "<IPython.lib.display.IFrame at 0x12a62ef30>"
      ]
     },
     "metadata": {},
     "output_type": "display_data"
    }
   ],
   "source": [
    "#    Map B: Stations per 100k in 1939\n",
    "make_choropleth(\n",
    "    df1940, \n",
    "    value_column='stations_per_100k', \n",
    "    legend='Radio Stations per 100k (1939)', \n",
    "    outfile='../output/stations_1939_per100k.html'\n",
    ")\n",
    "\n",
    "#changed color palette to YlGnBu in the "
   ]
  },
  {
   "cell_type": "code",
   "execution_count": 72,
   "id": "3dafcdbc-1deb-4d2a-bab4-e6d76348f885",
   "metadata": {},
   "outputs": [
    {
     "name": "stdout",
     "output_type": "stream",
     "text": [
      "Saved map to stations_1950_total.html\n"
     ]
    }
   ],
   "source": [
    "#    Map C: Total stations in 1950\n",
    "make_choropleth(\n",
    "    df1950, \n",
    "    value_column='total_stations', \n",
    "    legend='Total Radio Stations (1950)', \n",
    "    outfile='stations_1950_total.html'\n",
    ")\n"
   ]
  },
  {
   "cell_type": "code",
   "execution_count": 70,
   "id": "f96c87bd-e29b-4075-ac2f-932896865261",
   "metadata": {},
   "outputs": [
    {
     "name": "stdout",
     "output_type": "stream",
     "text": [
      "Saved map to stations_1950_per100k.html\n"
     ]
    }
   ],
   "source": [
    "#    Map D: Stations per 100k in 1950\n",
    "make_choropleth(\n",
    "    df1950, \n",
    "    value_column='stations_per_100k', \n",
    "    legend='Radio Stations per 100k (1950)', \n",
    "    outfile='stations_1950_per100k.html'\n",
    ")"
   ]
  },
  {
   "cell_type": "code",
   "execution_count": null,
   "id": "e68295bd-0b8b-4a93-9949-50077d42cfe2",
   "metadata": {},
   "outputs": [],
   "source": []
  }
 ],
 "metadata": {
  "kernelspec": {
   "display_name": "Python [conda env:base] *",
   "language": "python",
   "name": "conda-base-py"
  },
  "language_info": {
   "codemirror_mode": {
    "name": "ipython",
    "version": 3
   },
   "file_extension": ".py",
   "mimetype": "text/x-python",
   "name": "python",
   "nbconvert_exporter": "python",
   "pygments_lexer": "ipython3",
   "version": "3.12.7"
  }
 },
 "nbformat": 4,
 "nbformat_minor": 5
}
